{
  "metadata": {
    "kernelspec": {
      "name": "python",
      "display_name": "Python (Pyodide)",
      "language": "python"
    },
    "language_info": {
      "codemirror_mode": {
        "name": "python",
        "version": 3
      },
      "file_extension": ".py",
      "mimetype": "text/x-python",
      "name": "python",
      "nbconvert_exporter": "python",
      "pygments_lexer": "ipython3",
      "version": "3.8"
    }
  },
  "nbformat_minor": 4,
  "nbformat": 4,
  "cells": [
    {
      "cell_type": "code",
      "source": "import pandas as pd\nimport datetime",
      "metadata": {
        "trusted": true
      },
      "outputs": [],
      "execution_count": 1
    },
    {
      "cell_type": "code",
      "source": "class User:\n    def __init__(self, user_id, password, login_status):\n        self.user_id = user_id\n        self.password = password\n        self.login_status = login_status\n\n    def verify_login(self):\n        self.user_id.verify(self)\n\n    def login(self, username, password):\n        self.user_id.login(username, password)\n\nclass Employee:\n    def __init__(self, first_name, last_name, date_of_birth, phone_number, age, role):\n        self.first_name = first_name\n        self.last_name = last_name\n        self.date_of_birth = date_of_birth\n        self.phone_number = phone_number\n        self.age = age\n        self.role = role\n\nclass Accountant(Employee):\n    def send_payment_reminder(self,payment_reminder):\n        self.payment_reminder = payment_reminder\n        self.payment_reminder.send(payment_reminder)\n\n    def modify_client_data(client_table, client_id, column_to_change, new_value):\n        # Modify the specified column for the given client_id\n        client_table.loc[client_table['Client ID'] == client_id, column_to_change] = new_value\n        print(f\"{column_to_change} updated for Client ID {client_id}\")\n\n    def modify_report_data(reports_table, report_id, column_to_change, new_value):\n        # Modify the specified column for the given report_id\n        reports_table.loc[reports_table['ReportID'] == report_id, column_to_change] = new_value\n        print(f\"{column_to_change} updated for Report ID {report_id}\")\n\n    def modify_invoice_data(invoice_table, invoice_id, column_to_change, new_value):\n        # Modify the specified column for the given invoice_id\n        invoice_table.loc[invoice_table['InvoiceID'] == invoice_id, column_to_change] = new_value\n        print(f\"{column_to_change} updated for Invoice ID {invoice_id}\")\naccountant1 = Accountant('Manu', 'Vega', '02/12/89','5146222524','33','Accountant')\n\nclass Manager(Employee):\n    def review_report_data(self,report):\n        self.report = report\n        self.report.review(report)\n\n    def approve_report_data(self,report):\n        self.report.approve(report)\n\n    def approve_report(self, approver):\n        self.report.approve(approver)\n\n    def modify_report_data(reports_table, report_id, column_to_change, new_value):\n        # Modify the specified column for the given report_id\n        reports_table.loc[reports_table['ReportID'] == report_id, column_to_change] = new_value\n        print(f\"{column_to_change} updated for Report ID {report_id}\")\n\nclass Client:\n    def __init__(self, client_id, email, phone_number):\n        self.client_id = client_id\n        self.email = email\n        self.phone_number = phone_number\n\n    def update_contact_info(self,contact):\n        self.client_id.update(contact)\n\n    def retrieve_client_data(self):\n        self.client_id.retrieve(self)\n\n    def add_invoice(self, invoice):\n        self.client_id.append(invoice)\n\n    def get_client_list(self):\n        self.client_id.get(self)\n\n    def view_client_data(self, client_id):\n        self.client_id.view(client_id)\n\n    def modify_client_data(client_table, client_id, column_to_change, new_value):\n        # Modify the specified column for the given client_id\n        client_table.loc[client_table['Client ID'] == client_id, column_to_change] = new_value\n        print(f\"{column_to_change} updated for Client ID {client_id}\")\n\n    def save_client_list(self):\n        self.client_id.save(self)\n\n    def review_client_list(self):\n        self.client_id.review(self)\nclient1 = Client(3,'robertjohnson@gmail.com','5146256655')\nclass Report:\n    def __init__(self, report_id, name, report_type, date, status, approval, recipient):\n        self.report_id = report_id\n        self.name = name\n        self.report_type = report_type\n        self.date = date\n        self.status = status\n        self.approval = approval\n        self.recipient = recipient\n\n    def generate_report_data(self):\n        self.report_id.generate(self)\n\n    def export_report(self, format):\n        self.report_id.export(self)\n\n    def create_report_data(self):\n        self.report_id.create(self)\n\n    def retrieve_report_data(self):\n        self.report_id.retrieve(self)\n\n    def manipulate_report_data(self):\n        self.report_id.manipulate(self)\n\n    def modify_report_data(reports_table, report_id, column_to_change, new_value):\n        # Modify the specified column for the given report_id\n        reports_table.loc[reports_table['ReportID'] == report_id, column_to_change] = new_value\n        print(f\"{column_to_change} updated for Report ID {report_id}\")\n\nclass Invoices:\n    def __init__(self, invoice_id, invoice_date, due_date, total_amount, detail):\n        self.invoice_id = invoice_id\n        self.invoice_date = invoice_date\n        self.due_date = due_date\n        self.total_amount = total_amount\n        self.detail = detail\n\n    def get_invoice_list(self):\n        self.invoice_id.get(self)\n\n    def generate_invoice(self):\n        self.invoice_id.generate(self)\n\n    def review_invoice(self):\n        self.invoice_id.review(self)\n\n    def modify_invoice_data(invoice_table, invoice_id, column_to_change, new_value):\n        # Modify the specified column for the given invoice_id\n        invoice_table.loc[invoice_table['InvoiceID'] == invoice_id, column_to_change] = new_value\n        print(f\"{column_to_change} updated for Invoice ID {invoice_id}\")\n\n    def save_invoice_information(self):\n        self.invoice_id.save(self)",
      "metadata": {
        "trusted": true
      },
      "outputs": [],
      "execution_count": 30
    },
    {
      "cell_type": "code",
      "source": "# USE CASE 1: Modify Client Data\n# Step 1: Create a client table with data\nclient_data = {\n    'Client ID': [1, 2, 3, 4, 5],\n    'Client Name': ['John Kays', 'Jane Hernandez', 'Robert Johnson', 'Alicia Brown', 'Charlie Davis'],\n    'Client Payment Status': ['Not Paid', 'Not Paid', 'Not Paid', 'Not Paid', 'Not Paid']\n}\n\nclient_df = pd.DataFrame(client_data)\n\n# Step 2: Display the initial client table\nprint(\"Initial Client Table:\")\nprint(client_df)\n\n# Step 3: Use the Accountant class to modify the payment status\nAccountant.modify_client_data(client_df, 3, 'Client Payment Status', 'Paid')  # Modify payment status for Client ID 3 aka Robert Johnson\n\n# Display the updated client table\nprint(\"\\nUpdated Client Table:\")\nprint(client_df)",
      "metadata": {
        "trusted": true
      },
      "outputs": [
        {
          "name": "stdout",
          "text": "Initial Client Table:\n   Client ID     Client Name Client Payment Status\n0          1       John Kays              Not Paid\n1          2  Jane Hernandez              Not Paid\n2          3  Robert Johnson              Not Paid\n3          4    Alicia Brown              Not Paid\n4          5   Charlie Davis              Not Paid\nClient Payment Status updated for Client ID 3\n\nUpdated Client Table:\n   Client ID     Client Name Client Payment Status\n0          1       John Kays              Not Paid\n1          2  Jane Hernandez              Not Paid\n2          3  Robert Johnson                  Paid\n3          4    Alicia Brown              Not Paid\n4          5   Charlie Davis              Not Paid\n",
          "output_type": "stream"
        }
      ],
      "execution_count": 34
    },
    {
      "cell_type": "code",
      "source": "# USE CASE 2: Update Invoices\n# Step 1: Create an invoice table with data\ninvoice_data = {\n    'InvoiceID': [351, 352, 353, 354, 355],\n    'InvoiceDate': [datetime.date(2023, 1, 1), datetime.date(2023, 1, 5), datetime.date(2023, 1, 10), datetime.date(2023, 1, 15), datetime.date(2023, 1, 20)],\n    'InvoiceDueDate': [datetime.date(2023, 1, 15), datetime.date(2023, 1, 20), datetime.date(2023, 1, 25), datetime.date(2023, 1, 30), datetime.date(2023, 2, 1)],\n    'TotalAmount': [500.00, 750.00, 1000.00, 300.00, 1200.00],\n    'InvoiceDetail': ['Shipment 034', 'Maintenance Dec 08', 'Purchase Order 403', 'Miscellaneous', 'Purchase Order 404']\n}\n\ninvoice_df = pd.DataFrame(invoice_data)\n\n# Step 2: Display the initial invoice table\nprint(\"Initial Invoice Table:\")\nprint(invoice_df)\n\n# Step 3: Use the Accountant class to modify the TotalAmount\nAccountant.modify_invoice_data(invoice_df, 353, 'TotalAmount', 1200.00)  # Modify TotalAmount for Invoice ID 353\n\n# Display the updated invoice table\nprint(\"\\nUpdated Invoice Table:\")\nprint(invoice_df)",
      "metadata": {
        "trusted": true
      },
      "outputs": [
        {
          "name": "stdout",
          "text": "Initial Invoice Table:\n   InvoiceID InvoiceDate InvoiceDueDate  TotalAmount       InvoiceDetail\n0        351  2023-01-01     2023-01-15        500.0        Shipment 034\n1        352  2023-01-05     2023-01-20        750.0  Maintenance Dec 08\n2        353  2023-01-10     2023-01-25       1000.0  Purchase Order 403\n3        354  2023-01-15     2023-01-30        300.0       Miscellaneous\n4        355  2023-01-20     2023-02-01       1200.0  Purchase Order 404\nTotalAmount updated for Invoice ID 353\n\nUpdated Invoice Table:\n   InvoiceID InvoiceDate InvoiceDueDate  TotalAmount       InvoiceDetail\n0        351  2023-01-01     2023-01-15        500.0        Shipment 034\n1        352  2023-01-05     2023-01-20        750.0  Maintenance Dec 08\n2        353  2023-01-10     2023-01-25       1200.0  Purchase Order 403\n3        354  2023-01-15     2023-01-30        300.0       Miscellaneous\n4        355  2023-01-20     2023-02-01       1200.0  Purchase Order 404\n",
          "output_type": "stream"
        }
      ],
      "execution_count": 32
    },
    {
      "cell_type": "code",
      "source": "# USE CASE 3: Edit Reports\n# Step 1: Create a reports table with data\nreports_data = {\n    'ReportID': [601, 502, 403, 604, 305],\n    'Name': ['Monthly Sales', 'Expense Report', 'Quarterly Review', 'Project Update', 'Annual Budget'],\n    'Type': ['Financial', 'Expense', 'Review', 'Project', 'Budget'],\n    'Date': [datetime.date(2023, 1, 5), datetime.date(2023, 1, 10), datetime.date(2023, 2, 1), datetime.date(2023, 2, 15), datetime.date(2023, 3, 1)],\n    'Status': ['Pending', 'Approved', 'Pending', 'Pending', 'Pending'],\n    'Approval': ['Not Reviewed', 'Approved', 'Not Reviewed', 'Not Reviewed', 'Not Reviewed'],\n    'Recipient': ['Manuel Santos', 'Manuel Santos', 'Manuel Santos', 'Manuel Santos', 'Manuel Santos']\n}\n\nreports_df = pd.DataFrame(reports_data)\n\n# Step 2: Display the initial reports table\nprint(\"Initial Reports Table:\")\nprint(reports_df)\n\n# Step 3: Use the Accountant class to modify the Status\nManager.modify_report_data(reports_df, 403, 'Status', 'Approved')  # Modify Status for Report ID 403\n\n# Display the updated reports table\nprint(\"\\nUpdated Reports Table:\")\nprint(reports_df)",
      "metadata": {
        "trusted": true
      },
      "outputs": [
        {
          "name": "stdout",
          "text": "Initial Reports Table:\n   ReportID              Name       Type        Date    Status      Approval  \\\n0       601     Monthly Sales  Financial  2023-01-05   Pending  Not Reviewed   \n1       502    Expense Report    Expense  2023-01-10  Approved      Approved   \n2       403  Quarterly Review     Review  2023-02-01   Pending  Not Reviewed   \n3       604    Project Update    Project  2023-02-15   Pending  Not Reviewed   \n4       305     Annual Budget     Budget  2023-03-01   Pending  Not Reviewed   \n\n       Recipient  \n0  Manuel Santos  \n1  Manuel Santos  \n2  Manuel Santos  \n3  Manuel Santos  \n4  Manuel Santos  \nStatus updated for Report ID 403\n\nUpdated Reports Table:\n   ReportID              Name       Type        Date    Status      Approval  \\\n0       601     Monthly Sales  Financial  2023-01-05   Pending  Not Reviewed   \n1       502    Expense Report    Expense  2023-01-10  Approved      Approved   \n2       403  Quarterly Review     Review  2023-02-01  Approved  Not Reviewed   \n3       604    Project Update    Project  2023-02-15   Pending  Not Reviewed   \n4       305     Annual Budget     Budget  2023-03-01   Pending  Not Reviewed   \n\n       Recipient  \n0  Manuel Santos  \n1  Manuel Santos  \n2  Manuel Santos  \n3  Manuel Santos  \n4  Manuel Santos  \n",
          "output_type": "stream"
        }
      ],
      "execution_count": 35
    },
    {
      "cell_type": "code",
      "source": "",
      "metadata": {
        "trusted": true
      },
      "outputs": [],
      "execution_count": null
    }
  ]
}